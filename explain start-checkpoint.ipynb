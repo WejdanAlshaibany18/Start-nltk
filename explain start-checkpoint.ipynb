{
 "cells": [
  {
   "cell_type": "markdown",
   "id": "4cc27fa0",
   "metadata": {},
   "source": [
    "من خلال كتابة الامر التالي NLTK بداية نقوم بتنزيل  "
   ]
  },
  {
   "cell_type": "code",
   "execution_count": 1,
   "id": "3542edda",
   "metadata": {},
   "outputs": [
    {
     "name": "stdout",
     "output_type": "stream",
     "text": [
      "Note: you may need to restart the kernel to use updated packages.Requirement already satisfied: nltk in c:\\users\\joblack\\anaconda3\\lib\\site-packages (3.7)\n",
      "Requirement already satisfied: regex>=2021.8.3 in c:\\users\\joblack\\anaconda3\\lib\\site-packages (from nltk) (2022.7.9)\n",
      "Requirement already satisfied: joblib in c:\\users\\joblack\\anaconda3\\lib\\site-packages (from nltk) (1.1.0)\n",
      "Requirement already satisfied: tqdm in c:\\users\\joblack\\anaconda3\\lib\\site-packages (from nltk) (4.64.1)\n",
      "Requirement already satisfied: click in c:\\users\\joblack\\anaconda3\\lib\\site-packages (from nltk) (8.0.4)\n",
      "Requirement already satisfied: colorama in c:\\users\\joblack\\anaconda3\\lib\\site-packages (from click->nltk) (0.4.5)\n",
      "\n"
     ]
    }
   ],
   "source": [
    "pip install nltk"
   ]
  },
  {
   "cell_type": "markdown",
   "id": "cf842ad8",
   "metadata": {},
   "source": [
    "هنا العملية Packages بعد عملية التنزيل نأتي الى تنزيل  \n",
    "تطول كلا على حسب جودة الانترنت في حال فشل لا تقلق اعد خطوه يعود بتحميل من حيث توقف"
   ]
  },
  {
   "cell_type": "code",
   "execution_count": null,
   "id": "0a35877d",
   "metadata": {},
   "outputs": [],
   "source": [
    "nltk.download()"
   ]
  },
  {
   "cell_type": "code",
   "execution_count": null,
   "id": "56f67f91",
   "metadata": {},
   "outputs": [],
   "source": [
    "بعد التحميل نبدا في استدعاء المكتبة والبدء في التنفيذ"
   ]
  },
  {
   "cell_type": "code",
   "execution_count": 19,
   "id": "2d4a93a1",
   "metadata": {},
   "outputs": [],
   "source": [
    "import nltk"
   ]
  },
  {
   "cell_type": "code",
   "execution_count": 48,
   "id": "4af28503",
   "metadata": {},
   "outputs": [],
   "source": [
    "boy = 'أحمد أقل طالب ذكي'      #'I like play football'"
   ]
  },
  {
   "cell_type": "markdown",
   "id": "47a5ec4d",
   "metadata": {},
   "source": [
    " الان سوف نقوم بتقسيم الجملة الى كلمات "
   ]
  },
  {
   "cell_type": "code",
   "execution_count": 49,
   "id": "fa7491f3",
   "metadata": {},
   "outputs": [
    {
     "data": {
      "text/plain": [
       "['أحمد', 'أقل', 'طالب', 'ذكي']"
      ]
     },
     "execution_count": 49,
     "metadata": {},
     "output_type": "execute_result"
    }
   ],
   "source": [
    "nltk.word_tokenize(boy)"
   ]
  },
  {
   "cell_type": "markdown",
   "id": "23f99ef2",
   "metadata": {},
   "source": [
    "   سواء في اللغة العربية او اي للغة نفس الامر نقوم بحذف التعليق ثم نجرب ذلك Stopwords الان سوف نقوم في معرفة  "
   ]
  },
  {
   "cell_type": "code",
   "execution_count": 1,
   "id": "5d061142",
   "metadata": {},
   "outputs": [],
   "source": [
    "#from nltk.corpus import stopwords\n",
    "#stopwords.words('arabic') #'english' "
   ]
  },
  {
   "cell_type": "markdown",
   "id": "73610bac",
   "metadata": {},
   "source": [
    "Stopwords الان سوف نقوم بتقسيم الجملة لمعرفة \n",
    "قبل ذلك وضع خلية السابقة في تعليق هكذا \n",
    "\n",
    "#from nltk.corpus import stopwords\n",
    "#stopwords.words('arabic') #'english' "
   ]
  },
  {
   "cell_type": "code",
   "execution_count": 53,
   "id": "223c6d2a",
   "metadata": {},
   "outputs": [],
   "source": [
    "from nltk.corpus import stopwords\n",
    "stopwords_=stopwords.words('arabic')"
   ]
  },
  {
   "cell_type": "code",
   "execution_count": 54,
   "id": "81b3a432",
   "metadata": {},
   "outputs": [
    {
     "data": {
      "text/plain": [
       "['أحمد', 'طالب', 'ذكي']"
      ]
     },
     "execution_count": 54,
     "metadata": {},
     "output_type": "execute_result"
    }
   ],
   "source": [
    "[i for i in nltk.word_tokenize(boy) if i not in stopwords_]"
   ]
  },
  {
   "cell_type": "markdown",
   "id": "598dd57d",
   "metadata": {},
   "source": [
    "Stopwords كما ترا في المخرج في الاعلى قام بحذف كلمة أقل لانها تعتبرمن "
   ]
  }
 ],
 "metadata": {
  "kernelspec": {
   "display_name": "Python 3 (ipykernel)",
   "language": "python",
   "name": "python3"
  },
  "language_info": {
   "codemirror_mode": {
    "name": "ipython",
    "version": 3
   },
   "file_extension": ".py",
   "mimetype": "text/x-python",
   "name": "python",
   "nbconvert_exporter": "python",
   "pygments_lexer": "ipython3",
   "version": "3.9.13"
  }
 },
 "nbformat": 4,
 "nbformat_minor": 5
}
